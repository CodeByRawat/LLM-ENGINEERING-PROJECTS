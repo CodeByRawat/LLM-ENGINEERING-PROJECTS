{
 "cells": [
  {
   "cell_type": "code",
   "execution_count": 1,
   "id": "a20ddbd7",
   "metadata": {},
   "outputs": [],
   "source": [
    "import os\n",
    "import requests\n",
    "from dotenv import load_dotenv\n",
    "from bs4 import BeautifulSoup\n",
    "from IPython.display import Markdown,display\n",
    "from openai import OpenAI"
   ]
  },
  {
   "cell_type": "code",
   "execution_count": 2,
   "id": "1be383e1",
   "metadata": {},
   "outputs": [
    {
     "name": "stdout",
     "output_type": "stream",
     "text": [
      "api key found\n"
     ]
    }
   ],
   "source": [
    "load_dotenv(override=True)\n",
    "api_key=os.getenv('OPENAI_API_KEY')\n",
    "if not api_key:\n",
    "    print('api key not found')\n",
    "else:\n",
    "    print('api key found')"
   ]
  },
  {
   "cell_type": "code",
   "execution_count": 3,
   "id": "c73768d5",
   "metadata": {},
   "outputs": [],
   "source": [
    "system_prompt=\"\"\"\n",
    "You are a personal tutor for the user. You are helpful, friendly, and explain everything in very simple terms. \n",
    "You never assume prior knowledge unless the user explicitly says so. \n",
    "Use analogies, real-life examples, and step-by-step breakdowns.\n",
    "\n",
    "You speak like a human mentor — calm, encouraging, and clear. \n",
    "If the user asks for a quiz, give 3-5 questions based on the current topic. \n",
    "If they get something wrong, gently correct and explain it.\n",
    "\n",
    "Always end with: \"Would you like to learn more or try a quiz?\"\n",
    "\"\"\"\n",
    "def user_prompt_tutor(question) : \n",
    "    user_prompt=user_prompt = f\"Explain the following question to me as if I'm a complete beginner: \\n {question}\"\n",
    "    return user_prompt\n"
   ]
  },
  {
   "cell_type": "code",
   "execution_count": 4,
   "id": "3bce4b5f",
   "metadata": {},
   "outputs": [],
   "source": [
    "openai=OpenAI()\n",
    "def tutor(question):\n",
    "    response=openai.chat.completions.create(\n",
    "        model='gpt-40-mini',\n",
    "        message=[\n",
    "            {'role':'system','content':system_prompt},\n",
    "            {'role':'user','content':user_prompt_tutor(question)}\n",
    "        ]\n",
    "    )\n",
    "    return response.choices[0].messsage.content\n",
    "\n"
   ]
  },
  {
   "cell_type": "code",
   "execution_count": null,
   "id": "34b8295b",
   "metadata": {},
   "outputs": [],
   "source": [
    "Question = input('I am your personal Tutor Please Ask me Anything :D ')\n"
   ]
  },
  {
   "cell_type": "code",
   "execution_count": null,
   "id": "a8e124da",
   "metadata": {},
   "outputs": [],
   "source": [
    "name = input(\"What is your name? \")\n",
    "print(\"Hello,\", name)\n",
    "\n"
   ]
  },
  {
   "cell_type": "code",
   "execution_count": null,
   "id": "95c9798e",
   "metadata": {},
   "outputs": [],
   "source": []
  }
 ],
 "metadata": {
  "kernelspec": {
   "display_name": "llms",
   "language": "python",
   "name": "python3"
  },
  "language_info": {
   "codemirror_mode": {
    "name": "ipython",
    "version": 3
   },
   "file_extension": ".py",
   "mimetype": "text/x-python",
   "name": "python",
   "nbconvert_exporter": "python",
   "pygments_lexer": "ipython3",
   "version": "3.11.13"
  }
 },
 "nbformat": 4,
 "nbformat_minor": 5
}
