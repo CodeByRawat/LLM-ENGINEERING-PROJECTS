{
 "cells": [
  {
   "cell_type": "code",
   "execution_count": 5,
   "id": "97e76c3d",
   "metadata": {},
   "outputs": [],
   "source": [
    "import os\n",
    "import requests\n",
    "from dotenv import load_dotenv\n",
    "from bs4 import BeautifulSoup\n",
    "from IPython.display import Markdown, display\n",
    "from openai import OpenAI"
   ]
  },
  {
   "cell_type": "code",
   "execution_count": 17,
   "id": "2686ff86",
   "metadata": {},
   "outputs": [],
   "source": [
    "load_dotenv(override=True)\n",
    "api_key=os.getenv('OPENAI_API_KEY')"
   ]
  },
  {
   "cell_type": "code",
   "execution_count": 18,
   "id": "5ddb28ed",
   "metadata": {},
   "outputs": [
    {
     "name": "stdout",
     "output_type": "stream",
     "text": [
      "API key found\n"
     ]
    }
   ],
   "source": [
    "if not api_key:\n",
    "    print('no api_key_found')\n",
    "else: \n",
    "    print('API key found')"
   ]
  },
  {
   "cell_type": "code",
   "execution_count": 19,
   "id": "5566afaf",
   "metadata": {},
   "outputs": [],
   "source": [
    "#creting instance of openai class\n",
    "openai=OpenAI()\n",
    "\n"
   ]
  },
  {
   "cell_type": "code",
   "execution_count": 20,
   "id": "9ae144c0",
   "metadata": {},
   "outputs": [],
   "source": [
    "########################## EXTRACTING DATA FROM THE WEBSITE################################\n",
    "\n",
    "headers={\n",
    " \"User-Agent\": \"Mozilla/5.0 (Windows NT 10.0; Win64; x64) AppleWebKit/537.36 (KHTML, like Gecko) Chrome/117.0.0.0 Safari/537.36\"\n",
    "}\n",
    "\n",
    "class Website : \n",
    "    def __init__(self,url):\n",
    "        self.url=url\n",
    "        response=requests.get(url,headers=headers)\n",
    "        soup=BeautifulSoup(response.content,'html.parser')\n",
    "        self.title=soup.title.string if soup.title else 'No title found'\n",
    "        for irrelevant in soup.body([\"script\",\"style\",\"img\",\"input\"]):\n",
    "            irrelevant.decompose()\n",
    "        self.text=soup.body.get_text(separator=\"\\n\",strip=True)"
   ]
  },
  {
   "cell_type": "code",
   "execution_count": 21,
   "id": "fd0f77a5",
   "metadata": {},
   "outputs": [
    {
     "name": "stdout",
     "output_type": "stream",
     "text": [
      "Home - Edward Donner\n",
      "Home\n",
      "Connect Four\n",
      "Outsmart\n",
      "An arena that pits LLMs against each other in a battle of diplomacy and deviousness\n",
      "About\n",
      "Posts\n",
      "Well, hi there.\n",
      "I’m Ed. I like writing code and experimenting with LLMs, and hopefully you’re here because you do too. I also enjoy DJing (but I’m badly out of practice), amateur electronic music production (\n",
      "very\n",
      "amateur) and losing myself in\n",
      "Hacker News\n",
      ", nodding my head sagely to things I only half understand.\n",
      "I’m the co-founder and CTO of\n",
      "Nebula.io\n",
      ". We’re applying AI to a field where it can make a massive, positive impact: helping people discover their potential and pursue their reason for being. Recruiters use our product today to source, understand, engage and manage talent. I’m previously the founder and CEO of AI startup untapt,\n",
      "acquired in 2021\n",
      ".\n",
      "We work with groundbreaking, proprietary LLMs verticalized for talent, we’ve\n",
      "patented\n",
      "our matching model, and our award-winning platform has happy customers and tons of press coverage.\n",
      "Connect\n",
      "with me for more!\n",
      "May 28, 2025\n",
      "Connecting my courses – become an LLM expert and leader\n",
      "May 18, 2025\n",
      "2025 AI Executive Briefing\n",
      "April 21, 2025\n",
      "The Complete Agentic AI Engineering Course\n",
      "January 23, 2025\n",
      "LLM Workshop – Hands-on with Agents – resources\n",
      "Navigation\n",
      "Home\n",
      "Connect Four\n",
      "Outsmart\n",
      "An arena that pits LLMs against each other in a battle of diplomacy and deviousness\n",
      "About\n",
      "Posts\n",
      "Get in touch\n",
      "ed [at] edwarddonner [dot] com\n",
      "www.edwarddonner.com\n",
      "Follow me\n",
      "LinkedIn\n",
      "Twitter\n",
      "Facebook\n",
      "Subscribe to newsletter\n",
      "Type your email…\n",
      "Subscribe\n"
     ]
    }
   ],
   "source": [
    "# testing ## # ## # #\n",
    "ed=Website(\"https://edwarddonner.com\")\n",
    "print(ed.title)\n",
    "print(ed.text)"
   ]
  },
  {
   "cell_type": "code",
   "execution_count": 22,
   "id": "adb9dcf0",
   "metadata": {},
   "outputs": [],
   "source": [
    "#  prompts for sending message to llm\n",
    "system_prompt=\"you are an assistant that analyzes the contents of a website \\\n",
    "    and provides a short summary,ignoring text that might be navigation related.\\\n",
    "    respond in markdown.\"\n",
    "# Now to defin the user prompt we have to take in the title and body of the website\n",
    "\n",
    "def user_prompt_for(website):\n",
    "    user_prompt=f\"you are looking at a website titled {website.title}\"\n",
    "    user_prompt+=\"\\n The contents of this webiste is as follows; \\\n",
    "        please provide a short summary of this website in markdown.\\\n",
    "        if it includes news or announcements, then summarize these too.\\n\\n\" # use of '\\' = \"Even though I'm breaking this line in the code editor, it's actually one single long line of text.\"\n",
    "    user_prompt+=website.text\n",
    "    return user_prompt"
   ]
  },
  {
   "cell_type": "code",
   "execution_count": 23,
   "id": "4dd7363d",
   "metadata": {},
   "outputs": [
    {
     "name": "stdout",
     "output_type": "stream",
     "text": [
      "you are looking at a website titled Home - Edward Donner\n",
      " The contents of this webiste is as follows;         please provide a short summary of this website in markdown.        if it includes news or announcements, then summarize these too.\n",
      "\n",
      "Home\n",
      "Connect Four\n",
      "Outsmart\n",
      "An arena that pits LLMs against each other in a battle of diplomacy and deviousness\n",
      "About\n",
      "Posts\n",
      "Well, hi there.\n",
      "I’m Ed. I like writing code and experimenting with LLMs, and hopefully you’re here because you do too. I also enjoy DJing (but I’m badly out of practice), amateur electronic music production (\n",
      "very\n",
      "amateur) and losing myself in\n",
      "Hacker News\n",
      ", nodding my head sagely to things I only half understand.\n",
      "I’m the co-founder and CTO of\n",
      "Nebula.io\n",
      ". We’re applying AI to a field where it can make a massive, positive impact: helping people discover their potential and pursue their reason for being. Recruiters use our product today to source, understand, engage and manage talent. I’m previously the founder and CEO of AI startup untapt,\n",
      "acquired in 2021\n",
      ".\n",
      "We work with groundbreaking, proprietary LLMs verticalized for talent, we’ve\n",
      "patented\n",
      "our matching model, and our award-winning platform has happy customers and tons of press coverage.\n",
      "Connect\n",
      "with me for more!\n",
      "May 28, 2025\n",
      "Connecting my courses – become an LLM expert and leader\n",
      "May 18, 2025\n",
      "2025 AI Executive Briefing\n",
      "April 21, 2025\n",
      "The Complete Agentic AI Engineering Course\n",
      "January 23, 2025\n",
      "LLM Workshop – Hands-on with Agents – resources\n",
      "Navigation\n",
      "Home\n",
      "Connect Four\n",
      "Outsmart\n",
      "An arena that pits LLMs against each other in a battle of diplomacy and deviousness\n",
      "About\n",
      "Posts\n",
      "Get in touch\n",
      "ed [at] edwarddonner [dot] com\n",
      "www.edwarddonner.com\n",
      "Follow me\n",
      "LinkedIn\n",
      "Twitter\n",
      "Facebook\n",
      "Subscribe to newsletter\n",
      "Type your email…\n",
      "Subscribe\n"
     ]
    }
   ],
   "source": [
    "print(user_prompt_for(ed))"
   ]
  },
  {
   "cell_type": "code",
   "execution_count": 24,
   "id": "8f9cbf74",
   "metadata": {},
   "outputs": [],
   "source": [
    "# # THE API FROM OPEN AI EXPECT MESSAGE IN A PARTICULAR WAY\n",
    "# [\n",
    "#     {\"role\":\"system\",\"content\":\"system message here\"},\n",
    "#     {\"role\":\"user\",\"content\":\"user prompt here\"}\n",
    "# ]\n",
    "\n",
    "def message_for(website):\n",
    "    return[\n",
    "        {\"role\":\"system\",\"content\":system_prompt},\n",
    "        {\"role\":\"user\",\"content\":user_prompt_for(website)}\n",
    "    ]\n"
   ]
  },
  {
   "cell_type": "code",
   "execution_count": 25,
   "id": "9bce5538",
   "metadata": {},
   "outputs": [
    {
     "data": {
      "text/plain": [
       "[{'role': 'system',\n",
       "  'content': 'you are an assistant that analyzes the contents of a website     and provides a short summary,ignoring text that might be navigation related.    respond in markdown.'},\n",
       " {'role': 'user',\n",
       "  'content': 'you are looking at a website titled Home - Edward Donner\\n The contents of this webiste is as follows;         please provide a short summary of this website in markdown.        if it includes news or announcements, then summarize these too.\\n\\nHome\\nConnect Four\\nOutsmart\\nAn arena that pits LLMs against each other in a battle of diplomacy and deviousness\\nAbout\\nPosts\\nWell, hi there.\\nI’m Ed. I like writing code and experimenting with LLMs, and hopefully you’re here because you do too. I also enjoy DJing (but I’m badly out of practice), amateur electronic music production (\\nvery\\namateur) and losing myself in\\nHacker News\\n, nodding my head sagely to things I only half understand.\\nI’m the co-founder and CTO of\\nNebula.io\\n. We’re applying AI to a field where it can make a massive, positive impact: helping people discover their potential and pursue their reason for being. Recruiters use our product today to source, understand, engage and manage talent. I’m previously the founder and CEO of AI startup untapt,\\nacquired in 2021\\n.\\nWe work with groundbreaking, proprietary LLMs verticalized for talent, we’ve\\npatented\\nour matching model, and our award-winning platform has happy customers and tons of press coverage.\\nConnect\\nwith me for more!\\nMay 28, 2025\\nConnecting my courses – become an LLM expert and leader\\nMay 18, 2025\\n2025 AI Executive Briefing\\nApril 21, 2025\\nThe Complete Agentic AI Engineering Course\\nJanuary 23, 2025\\nLLM Workshop – Hands-on with Agents – resources\\nNavigation\\nHome\\nConnect Four\\nOutsmart\\nAn arena that pits LLMs against each other in a battle of diplomacy and deviousness\\nAbout\\nPosts\\nGet in touch\\ned [at] edwarddonner [dot] com\\nwww.edwarddonner.com\\nFollow me\\nLinkedIn\\nTwitter\\nFacebook\\nSubscribe to newsletter\\nType your email…\\nSubscribe'}]"
      ]
     },
     "execution_count": 25,
     "metadata": {},
     "output_type": "execute_result"
    }
   ],
   "source": [
    "message_for(ed)"
   ]
  },
  {
   "cell_type": "code",
   "execution_count": 26,
   "id": "ed947cf9",
   "metadata": {},
   "outputs": [],
   "source": [
    "### BINDING IT ALL TOGETHER #################\n",
    "def summarizer(url):\n",
    "    website=Website(url)\n",
    "    response=openai.chat.completions.create(\n",
    "        model='gpt-4o-mini',\n",
    "        messages=message_for(website)\n",
    "    )\n",
    "    return response.choices[0].message.content\n",
    "\n"
   ]
  },
  {
   "cell_type": "code",
   "execution_count": 27,
   "id": "6dbfd0bc",
   "metadata": {},
   "outputs": [
    {
     "data": {
      "text/plain": [
       "'# Summary of Edward Donner\\'s Website\\n\\nEdward Donner\\'s website features his interests in coding and experimenting with large language models (LLMs). He is the co-founder and CTO of Nebula.io, a company focused on using AI to help individuals discover their potential and engage with talent in the recruitment field. His background includes founding an AI startup, untapt, which was acquired in 2021.\\n\\n### Recent News and Announcements\\n- **May 28, 2025:** Announcement of courses aimed at becoming an LLM expert and leader.\\n- **May 18, 2025:** Information about the 2025 AI Executive Briefing.\\n- **April 21, 2025:** Launch of the \"Complete Agentic AI Engineering Course.\"\\n- **January 23, 2025:** An upcoming LLM Workshop focusing on hands-on experience with agents and associated resources.\\n\\nOverall, the website serves as a platform for sharing insights, courses, and personal updates related to LLMs and AI in the recruitment sector.'"
      ]
     },
     "execution_count": 27,
     "metadata": {},
     "output_type": "execute_result"
    }
   ],
   "source": [
    "summarizer(\"https://edwarddonner.com\")"
   ]
  },
  {
   "cell_type": "code",
   "execution_count": 28,
   "id": "4a63ff47",
   "metadata": {},
   "outputs": [],
   "source": [
    "# make it nicer to read\n",
    "\n",
    "def display_summary(url):\n",
    "    summary=summarizer(url)\n",
    "    display(Markdown(summary))"
   ]
  },
  {
   "cell_type": "code",
   "execution_count": 29,
   "id": "aff54113",
   "metadata": {},
   "outputs": [
    {
     "data": {
      "text/markdown": [
       "# Summary of Edward Donner's Website\n",
       "\n",
       "Edward Donner's website highlights his passion for coding, experimenting with large language models (LLMs), and his background as the co-founder and CTO of **Nebula.io**, an AI-driven platform aimed at enhancing talent discovery and management. He has previously founded **untapt**, an AI startup acquired in 2021. \n",
       "\n",
       "### Notable Content\n",
       "- **About Ed:** Ed shares his interests in DJing, electronic music production, and engaging with tech discussions on platforms like Hacker News.\n",
       "- **Professional Background:** He has experience in using proprietary LLMs tailored for talent management and has achieved recognition for his work through customer satisfaction and media coverage.\n",
       "\n",
       "### News and Announcements\n",
       "- **May 28, 2025:** Announcement for a course titled \"Connecting my courses – become an LLM expert and leader.\"\n",
       "- **May 18, 2025:** Information about the \"2025 AI Executive Briefing.\"\n",
       "- **April 21, 2025:** Details on \"The Complete Agentic AI Engineering Course.\"\n",
       "- **January 23, 2025:** Announcement regarding the \"LLM Workshop – Hands-on with Agents – resources.\"\n",
       "\n",
       "For those interested in connecting, Ed provides contact information and encourages engagement with his content."
      ],
      "text/plain": [
       "<IPython.core.display.Markdown object>"
      ]
     },
     "metadata": {},
     "output_type": "display_data"
    }
   ],
   "source": [
    "display_summary(\"https://edwarddonner.com\")"
   ]
  },
  {
   "cell_type": "code",
   "execution_count": null,
   "id": "062b5f5c",
   "metadata": {},
   "outputs": [],
   "source": []
  },
  {
   "cell_type": "code",
   "execution_count": null,
   "id": "adcdce62",
   "metadata": {},
   "outputs": [],
   "source": []
  }
 ],
 "metadata": {
  "kernelspec": {
   "display_name": "llms",
   "language": "python",
   "name": "python3"
  },
  "language_info": {
   "codemirror_mode": {
    "name": "ipython",
    "version": 3
   },
   "file_extension": ".py",
   "mimetype": "text/x-python",
   "name": "python",
   "nbconvert_exporter": "python",
   "pygments_lexer": "ipython3",
   "version": "3.11.13"
  }
 },
 "nbformat": 4,
 "nbformat_minor": 5
}
