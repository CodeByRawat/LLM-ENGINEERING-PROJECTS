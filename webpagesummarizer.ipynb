{
 "cells": [
  {
   "cell_type": "code",
   "execution_count": 6,
   "id": "97e76c3d",
   "metadata": {},
   "outputs": [],
   "source": [
    "import os\n",
    "import requests\n",
    "from dotenv import load_dotenv\n",
    "from bs4 import BeautifulSoup\n",
    "from IPython.display import Markdown, display\n",
    "from openai import OpenAI"
   ]
  },
  {
   "cell_type": "code",
   "execution_count": 10,
   "id": "2686ff86",
   "metadata": {},
   "outputs": [],
   "source": [
    "load_dotenv(override=True)\n",
    "api_key=os.getenv('OPENAI_API_KEY')"
   ]
  },
  {
   "cell_type": "code",
   "execution_count": 11,
   "id": "5ddb28ed",
   "metadata": {},
   "outputs": [
    {
     "name": "stdout",
     "output_type": "stream",
     "text": [
      "API key found\n"
     ]
    }
   ],
   "source": [
    "if not api_key:\n",
    "    print('no api_key_found')\n",
    "else: \n",
    "    print('API key found')"
   ]
  },
  {
   "cell_type": "code",
   "execution_count": 12,
   "id": "5566afaf",
   "metadata": {},
   "outputs": [],
   "source": [
    "#creting instance of openai class\n",
    "openai=OpenAI\n",
    "\n"
   ]
  },
  {
   "cell_type": "code",
   "execution_count": null,
   "id": "9ae144c0",
   "metadata": {},
   "outputs": [],
   "source": [
    "########################## EXTRACTING DATA FROM THE WEBSITE################################\n",
    "\n",
    "headers={\n",
    " \"User-Agent\": \"Mozilla/5.0 (Windows NT 10.0; Win64; x64) AppleWebKit/537.36 (KHTML, like Gecko) Chrome/117.0.0.0 Safari/537.36\"\n",
    "}\n",
    "\n",
    "class website : \n",
    "    def __init__(self,url):\n",
    "        self.url=url\n",
    "        response=requests.get(url,headers=headers)\n",
    "        soup=BeautifulSoup(response.content,'html.parser')\n",
    "        self.title=soup.title.string if soup.title else 'No title found'\n",
    "        for irrelevant in soup.body([\"script\",\"style\",\"img\",\"input\"]):\n",
    "            irrelevant.decompose()\n",
    "        self.text=soup.body.get_text(separator=\"\\n\",strip=True)"
   ]
  },
  {
   "cell_type": "code",
   "execution_count": 20,
   "id": "fd0f77a5",
   "metadata": {},
   "outputs": [
    {
     "name": "stdout",
     "output_type": "stream",
     "text": [
      "Home - Edward Donner\n",
      "Home \n",
      " Connect Four \n",
      " Outsmart \n",
      " An arena that pits LLMs against each other in a battle of diplomacy and deviousness \n",
      " About \n",
      " Posts \n",
      " Well, hi there. \n",
      " I’m Ed. I like writing code and experimenting with LLMs, and hopefully you’re here because you do too. I also enjoy DJing (but I’m badly out of practice), amateur electronic music production ( \n",
      " very \n",
      " amateur) and losing myself in \n",
      " Hacker News \n",
      " , nodding my head sagely to things I only half understand. \n",
      " I’m the co-founder and CTO of \n",
      " Nebula.io \n",
      " . We’re applying AI to a field where it can make a massive, positive impact: helping people discover their potential and pursue their reason for being. Recruiters use our product today to source, understand, engage and manage talent. I’m previously the founder and CEO of AI startup untapt, \n",
      " acquired in 2021 \n",
      " . \n",
      " We work with groundbreaking, proprietary LLMs verticalized for talent, we’ve \n",
      " patented \n",
      " our matching model, and our award-winning platform has happy customers and tons of press coverage. \n",
      " Connect \n",
      " with me for more! \n",
      " May 28, 2025 \n",
      " Connecting my courses – become an LLM expert and leader \n",
      " May 18, 2025 \n",
      " 2025 AI Executive Briefing \n",
      " April 21, 2025 \n",
      " The Complete Agentic AI Engineering Course \n",
      " January 23, 2025 \n",
      " LLM Workshop – Hands-on with Agents – resources \n",
      " Navigation \n",
      " Home \n",
      " Connect Four \n",
      " Outsmart \n",
      " An arena that pits LLMs against each other in a battle of diplomacy and deviousness \n",
      " About \n",
      " Posts \n",
      " Get in touch \n",
      " ed [at] edwarddonner [dot] com \n",
      " www.edwarddonner.com \n",
      " Follow me \n",
      " LinkedIn \n",
      " Twitter \n",
      " Facebook \n",
      " Subscribe to newsletter \n",
      " Type your email… \n",
      " Subscribe\n"
     ]
    }
   ],
   "source": [
    "ed=website(\"https://edwarddonner.com\")\n",
    "print(ed.title)\n",
    "print(ed.text)"
   ]
  },
  {
   "cell_type": "code",
   "execution_count": null,
   "id": "adb9dcf0",
   "metadata": {},
   "outputs": [],
   "source": []
  }
 ],
 "metadata": {
  "kernelspec": {
   "display_name": "llms",
   "language": "python",
   "name": "python3"
  },
  "language_info": {
   "codemirror_mode": {
    "name": "ipython",
    "version": 3
   },
   "file_extension": ".py",
   "mimetype": "text/x-python",
   "name": "python",
   "nbconvert_exporter": "python",
   "pygments_lexer": "ipython3",
   "version": "3.11.13"
  }
 },
 "nbformat": 4,
 "nbformat_minor": 5
}
